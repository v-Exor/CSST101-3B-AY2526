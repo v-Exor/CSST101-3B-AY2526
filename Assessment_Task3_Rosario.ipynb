{
  "nbformat": 4,
  "nbformat_minor": 0,
  "metadata": {
    "colab": {
      "provenance": []
    },
    "kernelspec": {
      "name": "python3",
      "display_name": "Python 3"
    },
    "language_info": {
      "name": "python"
    }
  },
  "cells": [
    {
      "cell_type": "markdown",
      "source": [
        "# **Part 1 – Unification**"
      ],
      "metadata": {
        "id": "tH-L2Mmmw8cB"
      }
    },
    {
      "cell_type": "code",
      "source": [
        "def unify(rule, fact):\n",
        "    return {\"x\": fact} if \"Eligible(x)\" in rule and fact.startswith(\"Eligible\") else {}\n",
        "\n",
        "\n",
        "result = unify(\"Eligible(x) → Scholarship(x)\", \"Eligible(Ana)\")\n",
        "print(\"Unification Result:\", result)\n"
      ],
      "metadata": {
        "id": "BUdErNexwo-N"
      },
      "execution_count": null,
      "outputs": []
    },
    {
      "cell_type": "markdown",
      "source": [
        "# **Part 2 – Forward Chaining**"
      ],
      "metadata": {
        "id": "LxVZ1ydqxM5h"
      }
    },
    {
      "cell_type": "code",
      "execution_count": 5,
      "metadata": {
        "id": "lHYTFyKFfXz2",
        "colab": {
          "base_uri": "https://localhost:8080/"
        },
        "outputId": "4abb3cfe-ce6e-4bff-d2f4-4c8017c4a605"
      },
      "outputs": [
        {
          "output_type": "stream",
          "name": "stdout",
          "text": [
            "Forward Chaining Results:\n",
            "Juan: {'Eligible': False, 'Scholarship': False, 'FinancialSupport': False}\n",
            "Maria: {'Eligible': False, 'Scholarship': False, 'FinancialSupport': False}\n",
            "Carlos: {'Eligible': False, 'Scholarship': False, 'FinancialSupport': False}\n",
            "Ana: {'Eligible': True, 'Scholarship': True, 'FinancialSupport': True}\n"
          ]
        }
      ],
      "source": [
        "students = {\n",
        "    \"Juan\": {\"HighGrades\": True, \"StudentLeader\": False, \"Applied\": True},\n",
        "    \"Maria\": {\"HighGrades\": True, \"StudentLeader\": False, \"Applied\": False},\n",
        "    \"Carlos\": {\"HighGrades\": False, \"StudentLeader\": True, \"Applied\": False},\n",
        "    \"Ana\": {\"HighGrades\": True, \"StudentLeader\": True, \"Applied\": True}\n",
        "}\n",
        "\n",
        "def is_eligible(facts):\n",
        "    return facts[\"HighGrades\"] and facts[\"StudentLeader\"] and facts[\"Applied\"]\n",
        "\n",
        "def forward_chaining():\n",
        "    derived = {}\n",
        "    for student, facts in students.items():\n",
        "        eligible = is_eligible(facts)\n",
        "        scholarship = eligible\n",
        "        financial = scholarship\n",
        "        derived[student] = {\n",
        "            \"Eligible\": eligible,\n",
        "            \"Scholarship\": scholarship,\n",
        "            \"FinancialSupport\": financial\n",
        "        }\n",
        "    return derived\n",
        "\n",
        "\n",
        "derived = forward_chaining()\n",
        "print(\"Forward Chaining Results:\")\n",
        "for s, d in derived.items():\n",
        "    print(f\"{s}: {d}\")\n"
      ]
    },
    {
      "cell_type": "markdown",
      "source": [
        "# **Part 3 – Backward Chaining**"
      ],
      "metadata": {
        "id": "EJNVX7Slw9mI"
      }
    },
    {
      "cell_type": "code",
      "source": [
        "students = {\n",
        "    \"Juan\": {\"HighGrades\": True, \"StudentLeader\": False, \"Applied\": True},\n",
        "    \"Maria\": {\"HighGrades\": True, \"StudentLeader\": False, \"Applied\": False},\n",
        "    \"Carlos\": {\"HighGrades\": False, \"StudentLeader\": True, \"Applied\": False},\n",
        "    \"Ana\": {\"HighGrades\": True, \"StudentLeader\": True, \"Applied\": True}\n",
        "}\n",
        "\n",
        "def is_eligible(facts):\n",
        "    return facts[\"HighGrades\"] and facts[\"StudentLeader\"] and facts[\"Applied\"]\n",
        "\n",
        "def has_scholarship(facts):\n",
        "    return is_eligible(facts)\n",
        "\n",
        "def has_financial_support(facts):\n",
        "    return has_scholarship(facts)\n",
        "\n",
        "def backward_chaining(goal, student):\n",
        "    facts = students[student]\n",
        "    if goal == \"Scholarship\":\n",
        "        return f\"{student}: {has_scholarship(facts)}\"\n",
        "    elif goal == \"FinancialSupport\":\n",
        "        return f\"{student}: {has_financial_support(facts)}\"\n",
        "    else:\n",
        "        return \"Unknown goal.\"\n",
        "\n",
        "print(\"Backward Chaining Results:\")\n",
        "print(backward_chaining(\"Scholarship\", \"Maria\"))\n",
        "print(backward_chaining(\"FinancialSupport\", \"Ana\"))\n"
      ],
      "metadata": {
        "colab": {
          "base_uri": "https://localhost:8080/"
        },
        "id": "Kl2S-mrrwwYS",
        "outputId": "3f87e589-9770-4b2f-e83c-2e3b49aee2f0"
      },
      "execution_count": 4,
      "outputs": [
        {
          "output_type": "stream",
          "name": "stdout",
          "text": [
            "Backward Chaining Results:\n",
            "Maria: False\n",
            "Ana: True\n"
          ]
        }
      ]
    },
    {
      "cell_type": "markdown",
      "source": [
        "# Part 4 – Truth Table"
      ],
      "metadata": {
        "id": "h457I3VhxguI"
      }
    },
    {
      "cell_type": "code",
      "source": [
        "def truth_table():\n",
        "    results = []\n",
        "    for HG in [True, False]:\n",
        "        for L in [True, False]:\n",
        "            for A in [True, False]:\n",
        "                E = HG and L and A\n",
        "                results.append((HG, L, A, E))\n",
        "    return results\n",
        "\n",
        "\n",
        "print(\"Truth Table Results:\")\n",
        "for row in truth_table():\n",
        "    print(row)\n"
      ],
      "metadata": {
        "colab": {
          "base_uri": "https://localhost:8080/"
        },
        "id": "hItCySBIwwgg",
        "outputId": "010313b2-e33f-4412-9322-8adb5f93af10"
      },
      "execution_count": 6,
      "outputs": [
        {
          "output_type": "stream",
          "name": "stdout",
          "text": [
            "Truth Table Results:\n",
            "(True, True, True, True)\n",
            "(True, True, False, False)\n",
            "(True, False, True, False)\n",
            "(True, False, False, False)\n",
            "(False, True, True, False)\n",
            "(False, True, False, False)\n",
            "(False, False, True, False)\n",
            "(False, False, False, False)\n"
          ]
        }
      ]
    },
    {
      "cell_type": "markdown",
      "source": [
        "# Part 5 – Reflection\n",
        "\n",
        "\n",
        "1. In 3–4 sentences, explain: Why is logical reasoning important in AI and real-life decision making?\n",
        "      *   Logical reasoning is important because it helps AI think in a clear and organized way, just like how people use logic to solve problems. It makes sure that the answers are correct and can be explained. In real life, logical thinking helps us make better choices and avoid mistakes. By using logic, both computers and people can come up with fair and smart decisions.\n",
        "\n",
        "\n",
        "\n",
        "\n",
        "\n",
        "\n"
      ],
      "metadata": {
        "id": "pMVcmja0y9pr"
      }
    }
  ]
}